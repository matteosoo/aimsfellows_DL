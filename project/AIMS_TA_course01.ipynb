{
  "nbformat": 4,
  "nbformat_minor": 0,
  "metadata": {
    "colab": {
      "name": "AIMS_TA_course01.ipynb",
      "provenance": []
    },
    "kernelspec": {
      "name": "python3",
      "display_name": "Python 3"
    }
  },
  "cells": [
    {
      "cell_type": "markdown",
      "metadata": {
        "id": "SUKufB6dots0"
      },
      "source": [
        "# print() 螢幕輸出"
      ]
    },
    {
      "cell_type": "code",
      "metadata": {
        "id": "ib-2oFWPnbbi"
      },
      "source": [
        "string = 'hello world'\n",
        "number = 1234"
      ],
      "execution_count": null,
      "outputs": []
    },
    {
      "cell_type": "code",
      "metadata": {
        "id": "5QdgDea8n2ic",
        "outputId": "52954aa6-32d7-41aa-e3f7-d70928f4a3ff",
        "colab": {
          "base_uri": "https://localhost:8080/"
        }
      },
      "source": [
        "print(type(string))\n",
        "print(type(number))"
      ],
      "execution_count": null,
      "outputs": [
        {
          "output_type": "stream",
          "text": [
            "<class 'str'>\n",
            "<class 'int'>\n"
          ],
          "name": "stdout"
        }
      ]
    },
    {
      "cell_type": "code",
      "metadata": {
        "id": "D18idUzWn8_V",
        "outputId": "4c61f5e9-eb9e-47df-dd78-14c046cfa1c1",
        "colab": {
          "base_uri": "https://localhost:8080/"
        }
      },
      "source": [
        "number_to_string = str(number)\n",
        "print(type(number_to_string))"
      ],
      "execution_count": null,
      "outputs": [
        {
          "output_type": "stream",
          "text": [
            "<class 'str'>\n"
          ],
          "name": "stdout"
        }
      ]
    },
    {
      "cell_type": "markdown",
      "metadata": {
        "id": "2uOO3ZRxo770"
      },
      "source": [
        "# String 字串"
      ]
    },
    {
      "cell_type": "code",
      "metadata": {
        "id": "GT9IStDQo9y8"
      },
      "source": [
        "# assign 概念\n",
        "TA1_name = 'Matteo'\n",
        "salary = 22000\n",
        "\n",
        "# print()"
      ],
      "execution_count": null,
      "outputs": []
    },
    {
      "cell_type": "markdown",
      "metadata": {
        "id": "7AFZIgqbqZfX"
      },
      "source": [
        "# 數字運算"
      ]
    },
    {
      "cell_type": "code",
      "metadata": {
        "id": "5fvZqMp2qdkY"
      },
      "source": [
        "x, y, z = 1 ,2 ,3"
      ],
      "execution_count": null,
      "outputs": []
    },
    {
      "cell_type": "code",
      "metadata": {
        "id": "PFHXSJwHrANO",
        "outputId": "9a969858-a2a4-4b9c-9b30-15a0f1556633",
        "colab": {
          "base_uri": "https://localhost:8080/",
          "height": 134
        }
      },
      "source": [
        "x + y = z"
      ],
      "execution_count": null,
      "outputs": [
        {
          "output_type": "error",
          "ename": "SyntaxError",
          "evalue": "ignored",
          "traceback": [
            "\u001b[0;36m  File \u001b[0;32m\"<ipython-input-11-9f97eb6d2232>\"\u001b[0;36m, line \u001b[0;32m1\u001b[0m\n\u001b[0;31m    x + y = z\u001b[0m\n\u001b[0m             ^\u001b[0m\n\u001b[0;31mSyntaxError\u001b[0m\u001b[0;31m:\u001b[0m can't assign to operator\n"
          ]
        }
      ]
    },
    {
      "cell_type": "code",
      "metadata": {
        "id": "W41IAIrwrFKt",
        "outputId": "6f37e165-64c0-45af-9111-c9dd0247b46c",
        "colab": {
          "base_uri": "https://localhost:8080/"
        }
      },
      "source": [
        "ground_truth_z = x + y\n",
        "\n",
        "if (ground_truth_z == z):\n",
        "  print('x+y is equal to z!')\n",
        "else:\n",
        "  print('x+y is not equal to z!')"
      ],
      "execution_count": null,
      "outputs": [
        {
          "output_type": "stream",
          "text": [
            "x+y is equal to z!\n"
          ],
          "name": "stdout"
        }
      ]
    },
    {
      "cell_type": "code",
      "metadata": {
        "id": "b_6A7QForyTp"
      },
      "source": [
        "# + - * / // %"
      ],
      "execution_count": null,
      "outputs": []
    },
    {
      "cell_type": "markdown",
      "metadata": {
        "id": "HYdNE_cmo-ou"
      },
      "source": [
        "# Boolean 布林"
      ]
    },
    {
      "cell_type": "code",
      "metadata": {
        "id": "mCR2UuhipA9y",
        "outputId": "faf70015-459c-40a4-946b-2a77d6f4427c",
        "colab": {
          "base_uri": "https://localhost:8080/"
        }
      },
      "source": [
        "1 < 3"
      ],
      "execution_count": null,
      "outputs": [
        {
          "output_type": "execute_result",
          "data": {
            "text/plain": [
              "True"
            ]
          },
          "metadata": {
            "tags": []
          },
          "execution_count": 19
        }
      ]
    },
    {
      "cell_type": "code",
      "metadata": {
        "id": "I0h-w2jmr-gP",
        "outputId": "4a8502d5-ffc8-4def-c697-c92d176399f0",
        "colab": {
          "base_uri": "https://localhost:8080/"
        }
      },
      "source": [
        "# Since Python is a dynamically-typed language.\n",
        "'1' < '3'"
      ],
      "execution_count": null,
      "outputs": [
        {
          "output_type": "execute_result",
          "data": {
            "text/plain": [
              "True"
            ]
          },
          "metadata": {
            "tags": []
          },
          "execution_count": 21
        }
      ]
    },
    {
      "cell_type": "code",
      "metadata": {
        "id": "Ysq7v5NWsW5e",
        "outputId": "56218501-8424-4d1b-80f2-96bf6c15816e",
        "colab": {
          "base_uri": "https://localhost:8080/"
        }
      },
      "source": [
        "'ab' < 'ac'"
      ],
      "execution_count": null,
      "outputs": [
        {
          "output_type": "execute_result",
          "data": {
            "text/plain": [
              "True"
            ]
          },
          "metadata": {
            "tags": []
          },
          "execution_count": 22
        }
      ]
    },
    {
      "cell_type": "markdown",
      "metadata": {
        "id": "i0AD370AtmQC"
      },
      "source": [
        "# if/else 條件式"
      ]
    },
    {
      "cell_type": "code",
      "metadata": {
        "id": "4clhXA23trxX"
      },
      "source": [
        "salary # 22k\n",
        "spend = 23000"
      ],
      "execution_count": null,
      "outputs": []
    },
    {
      "cell_type": "code",
      "metadata": {
        "id": "IEBxWVmBuNmj",
        "outputId": "5a5ba5db-e0d0-4efc-a4c3-c3f916281ab1",
        "colab": {
          "base_uri": "https://localhost:8080/"
        }
      },
      "source": [
        "# if elif else\n",
        "if (salary<spend):\n",
        "  print('透支!')"
      ],
      "execution_count": null,
      "outputs": [
        {
          "output_type": "stream",
          "text": [
            "透支!\n"
          ],
          "name": "stdout"
        }
      ]
    },
    {
      "cell_type": "markdown",
      "metadata": {
        "id": "Gd7gne84pCNV"
      },
      "source": [
        "# List 陣列"
      ]
    },
    {
      "cell_type": "code",
      "metadata": {
        "id": "tQIdkcS8pEdu"
      },
      "source": [
        "# scalar, vector, matrix, tensor"
      ],
      "execution_count": null,
      "outputs": []
    },
    {
      "cell_type": "markdown",
      "metadata": {
        "id": "RyrOczdvviGl"
      },
      "source": [
        "![image.png](data:image/png;base64,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)"
      ]
    },
    {
      "cell_type": "code",
      "metadata": {
        "id": "vSwcAaHev7mq"
      },
      "source": [
        "import numpy as np"
      ],
      "execution_count": null,
      "outputs": []
    },
    {
      "cell_type": "code",
      "metadata": {
        "id": "XNbAJW8-wSF0",
        "outputId": "9c85649c-3c88-4e7e-be5b-6b533080d5df",
        "colab": {
          "base_uri": "https://localhost:8080/"
        }
      },
      "source": [
        "# 1-d matrix\n",
        "a = np.array([1, 2, 3, 4])\n",
        "print(a)\n",
        "print(a.shape)\n",
        "print(a.shape[0]) # 第1維的長度"
      ],
      "execution_count": null,
      "outputs": [
        {
          "output_type": "stream",
          "text": [
            "[1 2 3 4]\n",
            "(4,)\n",
            "4\n"
          ],
          "name": "stdout"
        }
      ]
    },
    {
      "cell_type": "code",
      "metadata": {
        "id": "2-GTVuEfy0qa",
        "outputId": "93804dc2-45f3-4312-a83b-d4a4dde606d5",
        "colab": {
          "base_uri": "https://localhost:8080/"
        }
      },
      "source": [
        "# 2-d matrices\n",
        "a2 = np.array([[1], [2], [3], [4]])\n",
        "print(a2)\n",
        "print(a2.shape)\n",
        "print(a2.shape[0]) # 第1維的長度\n",
        "print(a2.shape[1]) # 第2維的長度"
      ],
      "execution_count": null,
      "outputs": [
        {
          "output_type": "stream",
          "text": [
            "[[1]\n",
            " [2]\n",
            " [3]\n",
            " [4]]\n",
            "(4, 1)\n",
            "4\n",
            "1\n"
          ],
          "name": "stdout"
        }
      ]
    },
    {
      "cell_type": "code",
      "metadata": {
        "id": "wMSYWqFUxMbY",
        "outputId": "cf880d47-105e-4a0b-9f66-5eb9db54bd1e",
        "colab": {
          "base_uri": "https://localhost:8080/"
        }
      },
      "source": [
        "# 2-d matrices\n",
        "b = np.array([[1,1],[1,2],[1,3],[1,4]])\n",
        "print(b)\n",
        "print(b.shape)\n",
        "print(b.shape[0]) # 第1維的長度\n",
        "print(b.shape[1]) # 第2維的長度"
      ],
      "execution_count": null,
      "outputs": [
        {
          "output_type": "stream",
          "text": [
            "[[1 1]\n",
            " [1 2]\n",
            " [1 3]\n",
            " [1 4]]\n",
            "(4, 2)\n",
            "4\n",
            "2\n"
          ],
          "name": "stdout"
        }
      ]
    },
    {
      "cell_type": "code",
      "metadata": {
        "id": "G2dMkOKpxQeb",
        "outputId": "e2a44a44-26f0-4f01-b5ac-89403f5909ff",
        "colab": {
          "base_uri": "https://localhost:8080/"
        }
      },
      "source": [
        "# 3-d tensor\n",
        "T = np.array([\n",
        "  [[1,2,3],    [4,5,6],    [7,8,9]],\n",
        "  [[11,12,13], [14,15,16], [17,18,19]],\n",
        "  [[21,22,23], [24,25,26], [27,28,29]],\n",
        "  ])\n",
        "print(T)\n",
        "print(T.shape)\n",
        "print(T.shape[0]) # 第1維的長度\n",
        "print(T.shape[1]) # 第2維的長度\n",
        "print(T.shape[2]) # 第3維的長度"
      ],
      "execution_count": null,
      "outputs": [
        {
          "output_type": "stream",
          "text": [
            "[[[ 1  2  3]\n",
            "  [ 4  5  6]\n",
            "  [ 7  8  9]]\n",
            "\n",
            " [[11 12 13]\n",
            "  [14 15 16]\n",
            "  [17 18 19]]\n",
            "\n",
            " [[21 22 23]\n",
            "  [24 25 26]\n",
            "  [27 28 29]]]\n",
            "(3, 3, 3)\n",
            "3\n",
            "3\n",
            "3\n"
          ],
          "name": "stdout"
        }
      ]
    },
    {
      "cell_type": "markdown",
      "metadata": {
        "id": "UjoiGhTVpOGI"
      },
      "source": [
        "# FOR LOOP 迴圈"
      ]
    },
    {
      "cell_type": "code",
      "metadata": {
        "id": "YRBWlz8mpQns",
        "outputId": "d219ba80-0764-43ce-e413-17a556e21f3c",
        "colab": {
          "base_uri": "https://localhost:8080/"
        }
      },
      "source": [
        "start_variable = 0\n",
        "for start_variable in range(5):\n",
        "  print(start_variable)"
      ],
      "execution_count": null,
      "outputs": [
        {
          "output_type": "stream",
          "text": [
            "0\n",
            "1\n",
            "2\n",
            "3\n",
            "4\n"
          ],
          "name": "stdout"
        }
      ]
    },
    {
      "cell_type": "markdown",
      "metadata": {
        "id": "dNRWt3-KpR-t"
      },
      "source": [
        "# While LOOP 迴圈 & break"
      ]
    },
    {
      "cell_type": "code",
      "metadata": {
        "id": "O0tf33MrpUOE",
        "outputId": "a487c3b4-dc68-457b-d968-34252cec19b9",
        "colab": {
          "base_uri": "https://localhost:8080/"
        }
      },
      "source": [
        "i = 1\n",
        "while i < 6:\n",
        "  print(i)\n",
        "  i += 1"
      ],
      "execution_count": 57,
      "outputs": [
        {
          "output_type": "stream",
          "text": [
            "1\n",
            "2\n",
            "3\n",
            "4\n",
            "5\n"
          ],
          "name": "stdout"
        }
      ]
    },
    {
      "cell_type": "code",
      "metadata": {
        "id": "UrxcqmFG2aDX",
        "outputId": "216ef0db-a093-4b9e-ca22-8eef6a57a8c8",
        "colab": {
          "base_uri": "https://localhost:8080/"
        }
      },
      "source": [
        "i = 1\n",
        "while i < 6:\n",
        "  print(i)\n",
        "  if i == 3:\n",
        "    break\n",
        "  i += 1"
      ],
      "execution_count": 58,
      "outputs": [
        {
          "output_type": "stream",
          "text": [
            "1\n",
            "2\n",
            "3\n"
          ],
          "name": "stdout"
        }
      ]
    }
  ]
}